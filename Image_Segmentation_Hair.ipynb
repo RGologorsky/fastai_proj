{
  "nbformat": 4,
  "nbformat_minor": 0,
  "metadata": {
    "colab": {
      "name": "Image Segmentation: Hair.ipynb",
      "provenance": [],
      "collapsed_sections": [],
      "toc_visible": true,
      "authorship_tag": "ABX9TyM6bk4vaZfsp1Iu1F6RAqYD",
      "include_colab_link": true
    },
    "kernelspec": {
      "name": "python3",
      "display_name": "Python 3"
    },
    "accelerator": "GPU"
  },
  "cells": [
    {
      "cell_type": "markdown",
      "metadata": {
        "id": "view-in-github",
        "colab_type": "text"
      },
      "source": [
        "<a href=\"https://colab.research.google.com/github/RGologorsky/fastproj/blob/master/Image_Segmentation_Hair.ipynb\" target=\"_parent\"><img src=\"https://colab.research.google.com/assets/colab-badge.svg\" alt=\"Open In Colab\"/></a>"
      ]
    },
    {
      "cell_type": "markdown",
      "metadata": {
        "id": "DpjP71EE1O4Y",
        "colab_type": "text"
      },
      "source": [
        "# Goal: label pixels with hair"
      ]
    },
    {
      "cell_type": "markdown",
      "metadata": {
        "id": "wqs1nh4I1YYO",
        "colab_type": "text"
      },
      "source": [
        "## Imports"
      ]
    },
    {
      "cell_type": "code",
      "metadata": {
        "id": "bAsm3xSD0jYg",
        "colab_type": "code",
        "colab": {}
      },
      "source": [
        "%matplotlib inline"
      ],
      "execution_count": 0,
      "outputs": []
    },
    {
      "cell_type": "code",
      "metadata": {
        "id": "WQdMsudG02ty",
        "colab_type": "code",
        "colab": {}
      },
      "source": [
        "%%capture\n",
        "!pip install fastai2"
      ],
      "execution_count": 0,
      "outputs": []
    },
    {
      "cell_type": "code",
      "metadata": {
        "id": "IwPMcZ6S0taf",
        "colab_type": "code",
        "colab": {
          "base_uri": "https://localhost:8080/",
          "height": 125
        },
        "outputId": "553b001b-234d-4e67-fcc2-1147c1e6e2be"
      },
      "source": [
        "from fastai2.basics import *\n",
        "from fastai2.callback.all import *\n",
        "from fastai2.vision.all import *"
      ],
      "execution_count": 2,
      "outputs": [
        {
          "output_type": "stream",
          "text": [
            "Go to this URL in a browser: https://accounts.google.com/o/oauth2/auth?client_id=947318989803-6bn6qk8qdgf4n4g3pfee6491hc0brc4i.apps.googleusercontent.com&redirect_uri=urn%3aietf%3awg%3aoauth%3a2.0%3aoob&response_type=code&scope=email%20https%3a%2f%2fwww.googleapis.com%2fauth%2fdocs.test%20https%3a%2f%2fwww.googleapis.com%2fauth%2fdrive%20https%3a%2f%2fwww.googleapis.com%2fauth%2fdrive.photos.readonly%20https%3a%2f%2fwww.googleapis.com%2fauth%2fpeopleapi.readonly\n",
            "\n",
            "Enter your authorization code:\n",
            "··········\n",
            "Mounted at /content/drive\n"
          ],
          "name": "stdout"
        }
      ]
    },
    {
      "cell_type": "code",
      "metadata": {
        "id": "L9kSnTcl2Fa6",
        "colab_type": "code",
        "colab": {}
      },
      "source": [
        "from pathlib import Path"
      ],
      "execution_count": 0,
      "outputs": []
    },
    {
      "cell_type": "code",
      "metadata": {
        "id": "LVA2CiDL3wHF",
        "colab_type": "code",
        "colab": {}
      },
      "source": [
        "from google.colab import drive"
      ],
      "execution_count": 0,
      "outputs": []
    },
    {
      "cell_type": "code",
      "metadata": {
        "id": "tXFpjtVC6221",
        "colab_type": "code",
        "colab": {}
      },
      "source": [
        "# utils\n",
        "def pp_list(l): print(f\"len {len(l)}:\", *l, sep=\"\\n\")"
      ],
      "execution_count": 0,
      "outputs": []
    },
    {
      "cell_type": "code",
      "metadata": {
        "id": "YvUq5JIP-scJ",
        "colab_type": "code",
        "colab": {
          "base_uri": "https://localhost:8080/",
          "height": 70
        },
        "outputId": "7b26935e-fc9b-4747-8b7f-68f2ed5ea14c"
      },
      "source": [
        "pp_list(range(2))"
      ],
      "execution_count": 53,
      "outputs": [
        {
          "output_type": "stream",
          "text": [
            "len 2:\n",
            "0\n",
            "1\n"
          ],
          "name": "stdout"
        }
      ]
    },
    {
      "cell_type": "markdown",
      "metadata": {
        "id": "eZ2xJcZE00oO",
        "colab_type": "text"
      },
      "source": [
        "## Unzip Data"
      ]
    },
    {
      "cell_type": "code",
      "metadata": {
        "id": "WWeM-tEH2Em8",
        "colab_type": "code",
        "colab": {}
      },
      "source": [
        "drive.mount('/content/drive')"
      ],
      "execution_count": 0,
      "outputs": []
    },
    {
      "cell_type": "code",
      "metadata": {
        "id": "Fdpj2r3f2XPw",
        "colab_type": "code",
        "colab": {}
      },
      "source": [
        "base_path = Path(\"drive/My Drive/fastai_proj\")"
      ],
      "execution_count": 0,
      "outputs": []
    },
    {
      "cell_type": "code",
      "metadata": {
        "id": "bpBSfXgT3p_l",
        "colab_type": "code",
        "colab": {}
      },
      "source": [
        "proj = \"segmentation\"\n",
        "proj_path = base_path/proj\n",
        "pp_list(proj_path.ls())"
      ],
      "execution_count": 0,
      "outputs": []
    },
    {
      "cell_type": "code",
      "metadata": {
        "id": "LowTIZQg2Ac-",
        "colab_type": "code",
        "colab": {}
      },
      "source": [
        "data_src = proj_path/\"face_segment_data_sampleset.zip\"\n",
        "data_dest = proj_path/\"data\""
      ],
      "execution_count": 0,
      "outputs": []
    },
    {
      "cell_type": "code",
      "metadata": {
        "id": "TQDPiPU32n2B",
        "colab_type": "code",
        "colab": {}
      },
      "source": [
        "# !unzip -qq \"$data_src\" -d \"$data_dest\""
      ],
      "execution_count": 0,
      "outputs": []
    },
    {
      "cell_type": "markdown",
      "metadata": {
        "id": "zAfgvcbe9qL3",
        "colab_type": "text"
      },
      "source": [
        "## View data w/labels"
      ]
    },
    {
      "cell_type": "code",
      "metadata": {
        "id": "tBkuw-RiE1kA",
        "colab_type": "code",
        "colab": {}
      },
      "source": [
        "path_lbl = data_dest/\"labels\"\n",
        "path_img = data_dest"
      ],
      "execution_count": 0,
      "outputs": []
    },
    {
      "cell_type": "code",
      "metadata": {
        "id": "8wCHj4ZjNsHJ",
        "colab_type": "code",
        "colab": {
          "base_uri": "https://localhost:8080/",
          "height": 87
        },
        "outputId": "9c854c8c-392c-4adc-acf4-267a0c38a3c1"
      },
      "source": [
        "lbl_names = get_image_files(path_lbl)\n",
        "pp_list(lbl_names[:3])"
      ],
      "execution_count": 144,
      "outputs": [
        {
          "output_type": "stream",
          "text": [
            "len 3:\n",
            "drive/My Drive/fastai_proj/segmentation/data/labels/femalefelice/headrende0000.png\n",
            "drive/My Drive/fastai_proj/segmentation/data/labels/femalefelice/headrende0020.png\n",
            "drive/My Drive/fastai_proj/segmentation/data/labels/femalefelice/headrende0040.png\n"
          ],
          "name": "stdout"
        }
      ]
    },
    {
      "cell_type": "code",
      "metadata": {
        "id": "SMZA-zRnNwy9",
        "colab_type": "code",
        "colab": {}
      },
      "source": [
        "# look for images in all folders except for \"labels\"\n",
        "def rm_path_prefix(f, prefix=path_img): return str(f).replace(f\"{prefix}/\", \"\")\n",
        "img_folders = [rm_path_prefix(p) for p in path_img.ls() if p != path_lbl]\n",
        "\n",
        "# def rm_parent_path(f): return re.search(\"(?!.*\\/).*\", str(f)).group(0)"
      ],
      "execution_count": 0,
      "outputs": []
    },
    {
      "cell_type": "code",
      "metadata": {
        "id": "2KsEnS_UN4LC",
        "colab_type": "code",
        "colab": {
          "base_uri": "https://localhost:8080/",
          "height": 87
        },
        "outputId": "5e7cc29d-ebc3-4983-b0cf-926772d7a3fd"
      },
      "source": [
        "fnames = get_image_files(data_dest, recurse=True, folders=img_folders)\n",
        "pp_list(fnames[:3])"
      ],
      "execution_count": 159,
      "outputs": [
        {
          "output_type": "stream",
          "text": [
            "len 3:\n",
            "drive/My Drive/fastai_proj/segmentation/data/femalefelice_env04/headrende0000.png\n",
            "drive/My Drive/fastai_proj/segmentation/data/femalefelice_env04/headrende0020.png\n",
            "drive/My Drive/fastai_proj/segmentation/data/femalefelice_env04/headrende0040.png\n"
          ],
          "name": "stdout"
        }
      ]
    },
    {
      "cell_type": "markdown",
      "metadata": {
        "id": "j_n1tmWJ5Mrh",
        "colab_type": "text"
      },
      "source": [
        "# Associate fname to label"
      ]
    },
    {
      "cell_type": "code",
      "metadata": {
        "id": "U1055YFE9YR7",
        "colab_type": "code",
        "colab": {}
      },
      "source": [
        "path_lbl = data_dest/\"labels\""
      ],
      "execution_count": 0,
      "outputs": []
    },
    {
      "cell_type": "code",
      "metadata": {
        "id": "FJP2u-Zh8-I6",
        "colab_type": "code",
        "colab": {
          "base_uri": "https://localhost:8080/",
          "height": 87
        },
        "outputId": "6a653094-892f-4101-978d-d0400b539c42"
      },
      "source": [
        "fnames = get_image_files(data_dest, recurse=True)\n",
        "pp_list(fnames[:3])"
      ],
      "execution_count": 54,
      "outputs": [
        {
          "output_type": "stream",
          "text": [
            "len 3:\n",
            "drive/My Drive/fastai_proj/segmentation/data/femalefelice_env04/headrende0000.png\n",
            "drive/My Drive/fastai_proj/segmentation/data/femalefelice_env04/headrende0020.png\n",
            "drive/My Drive/fastai_proj/segmentation/data/femalefelice_env04/headrende0040.png\n"
          ],
          "name": "stdout"
        }
      ]
    },
    {
      "cell_type": "code",
      "metadata": {
        "id": "00_7jcFh9Irz",
        "colab_type": "code",
        "colab": {}
      },
      "source": [
        "lbl_names = get_image_files()"
      ],
      "execution_count": 0,
      "outputs": []
    },
    {
      "cell_type": "markdown",
      "metadata": {
        "id": "ket4wNg0GGIi",
        "colab_type": "text"
      },
      "source": [
        "## View image/label mask"
      ]
    },
    {
      "cell_type": "code",
      "metadata": {
        "id": "G6OQ5_QMJpap",
        "colab_type": "code",
        "colab": {
          "base_uri": "https://localhost:8080/",
          "height": 34
        },
        "outputId": "d56b6a0f-b956-48b9-dcd3-6d090b6c3ad1"
      },
      "source": [
        "data_dest"
      ],
      "execution_count": 117,
      "outputs": [
        {
          "output_type": "execute_result",
          "data": {
            "text/plain": [
              "Path('drive/My Drive/fastai_proj/segmentation/data')"
            ]
          },
          "metadata": {
            "tags": []
          },
          "execution_count": 117
        }
      ]
    },
    {
      "cell_type": "code",
      "metadata": {
        "id": "WI7pp3MJI5PB",
        "colab_type": "code",
        "colab": {}
      },
      "source": [
        "def rm_underscore(x): return re.search(\".*(?=_)\", str(x)).group(0)\n",
        "get_y_fn = lambda x: path_lbl/rm_underscore(rm_path_prefix(x))/x.name"
      ],
      "execution_count": 0,
      "outputs": []
    },
    {
      "cell_type": "code",
      "metadata": {
        "id": "aToLDxrJULfg",
        "colab_type": "code",
        "colab": {
          "base_uri": "https://localhost:8080/",
          "height": 87
        },
        "outputId": "b360c976-f668-42ce-cca8-faff9609c733"
      },
      "source": [
        "# a = rm_path_prefix(fnames[0])\n",
        "# print(a)\n",
        "# b = rm_underscore(a)\n",
        "# print(b)\n",
        "get_y_fn(fnames[0]) == lbl_names[0]\n",
        "pp_list([fnames[0], get_y_fn(fnames[0]), lbl_names[0]])"
      ],
      "execution_count": 183,
      "outputs": [
        {
          "output_type": "stream",
          "text": [
            "len 3:\n",
            "drive/My Drive/fastai_proj/segmentation/data/femalefelice_env04/headrende0000.png\n",
            "drive/My Drive/fastai_proj/segmentation/data/labels/femalefelice/headrende0000.png\n",
            "drive/My Drive/fastai_proj/segmentation/data/labels/femalefelice/headrende0000.png\n"
          ],
          "name": "stdout"
        }
      ]
    },
    {
      "cell_type": "code",
      "metadata": {
        "id": "2jXnFFZbF_eM",
        "colab_type": "code",
        "colab": {}
      },
      "source": [
        "idx = -1\n",
        "fname = path_img/\"maleandrew2_env01/headrende0240.png\"\n"
      ],
      "execution_count": 0,
      "outputs": []
    },
    {
      "cell_type": "code",
      "metadata": {
        "id": "MzTLaNRBXA8_",
        "colab_type": "code",
        "colab": {}
      },
      "source": [
        "# training image\n",
        "img_f = fnames[idx] if idx != -1 else fname\n",
        "img = PILImage.create(img_f)\n",
        "#img.show()"
      ],
      "execution_count": 0,
      "outputs": []
    },
    {
      "cell_type": "code",
      "metadata": {
        "id": "y6W01wLbWDmr",
        "colab_type": "code",
        "colab": {}
      },
      "source": [
        "# labeled image\n",
        "img_lbl_f = get_y_fn(img_f)\n",
        "img_lbl = PILImage.create(img_lbl_f)\n",
        "# img_lbl.show()"
      ],
      "execution_count": 0,
      "outputs": []
    },
    {
      "cell_type": "code",
      "metadata": {
        "id": "0oyRFVB_W_Of",
        "colab_type": "code",
        "colab": {
          "base_uri": "https://localhost:8080/",
          "height": 308
        },
        "outputId": "60d5356f-065a-4b69-ab23-06454355872a"
      },
      "source": [
        "# masked image\n",
        "mask = PILMask.create(img_lbl_f)\n",
        "mask.show()"
      ],
      "execution_count": 317,
      "outputs": [
        {
          "output_type": "execute_result",
          "data": {
            "text/plain": [
              "<matplotlib.axes._subplots.AxesSubplot at 0x7f63383629b0>"
            ]
          },
          "metadata": {
            "tags": []
          },
          "execution_count": 317
        },
        {
          "output_type": "display_data",
          "data": {
            "image/png": "[encoded data removed]",
            "text/plain": [
              "<Figure size 360x360 with 1 Axes>"
            ]
          },
          "metadata": {
            "tags": [],
            "needs_background": "light"
          }
        }
      ]
    },
    {
      "cell_type": "code",
      "metadata": {
        "id": "dFq1CCePf4z6",
        "colab_type": "code",
        "colab": {
          "base_uri": "https://localhost:8080/",
          "height": 141
        },
        "outputId": "9308145a-fb58-4b19-abe3-d96a4987dc73"
      },
      "source": [
        "tensor(mask), mask.shape"
      ],
      "execution_count": 318,
      "outputs": [
        {
          "output_type": "execute_result",
          "data": {
            "text/plain": [
              "(tensor([[0, 0, 0,  ..., 0, 0, 0],\n",
              "         [0, 0, 0,  ..., 0, 0, 0],\n",
              "         [0, 0, 0,  ..., 0, 0, 0],\n",
              "         ...,\n",
              "         [0, 0, 0,  ..., 0, 0, 0],\n",
              "         [0, 0, 0,  ..., 0, 0, 0],\n",
              "         [0, 0, 0,  ..., 0, 0, 0]], dtype=torch.uint8), (280, 300))"
            ]
          },
          "metadata": {
            "tags": []
          },
          "execution_count": 318
        }
      ]
    },
    {
      "cell_type": "code",
      "metadata": {
        "id": "osKdgyPFgfdN",
        "colab_type": "code",
        "colab": {
          "base_uri": "https://localhost:8080/",
          "height": 70
        },
        "outputId": "e7f69083-1210-4949-9f4d-abba3d4e7464"
      },
      "source": [
        "unique_vals = np.unique(mask)\n",
        "unique_vals, len(unique_vals), len(codes)"
      ],
      "execution_count": 319,
      "outputs": [
        {
          "output_type": "execute_result",
          "data": {
            "text/plain": [
              "(array([  0,  29,  76, 105, 128, 150, 179, 211, 226, 255], dtype=uint8),\n",
              " 10,\n",
              " 10)"
            ]
          },
          "metadata": {
            "tags": []
          },
          "execution_count": 319
        }
      ]
    },
    {
      "cell_type": "code",
      "metadata": {
        "id": "DZI8SF0YgsIt",
        "colab_type": "code",
        "colab": {}
      },
      "source": [
        "orig_mask = mask\n",
        "orig_img = img_f"
      ],
      "execution_count": 0,
      "outputs": []
    },
    {
      "cell_type": "code",
      "metadata": {
        "id": "OP3uw2OkhHrW",
        "colab_type": "code",
        "colab": {}
      },
      "source": [
        "mask_arr = np.array(orig_mask)\n",
        "img_arr = np.array(Image.open(img_f))"
      ],
      "execution_count": 0,
      "outputs": []
    },
    {
      "cell_type": "code",
      "metadata": {
        "id": "IcPxCM32hMIN",
        "colab_type": "code",
        "colab": {
          "base_uri": "https://localhost:8080/",
          "height": 34
        },
        "outputId": "337b5f6b-f95f-4ca9-81a9-855dcc0bd430"
      },
      "source": [
        "mask_arr.shape, img_arr.shape"
      ],
      "execution_count": 322,
      "outputs": [
        {
          "output_type": "execute_result",
          "data": {
            "text/plain": [
              "((280, 300), (280, 300, 3))"
            ]
          },
          "metadata": {
            "tags": []
          },
          "execution_count": 322
        }
      ]
    },
    {
      "cell_type": "code",
      "metadata": {
        "id": "y7CkQJqWoTNE",
        "colab_type": "code",
        "colab": {
          "base_uri": "https://localhost:8080/",
          "height": 34
        },
        "outputId": "612eeb0a-efb1-42ff-884e-13a95df80e2e"
      },
      "source": [
        "unique_vals"
      ],
      "execution_count": 323,
      "outputs": [
        {
          "output_type": "execute_result",
          "data": {
            "text/plain": [
              "array([  0,  29,  76, 105, 128, 150, 179, 211, 226, 255], dtype=uint8)"
            ]
          },
          "metadata": {
            "tags": []
          },
          "execution_count": 323
        }
      ]
    },
    {
      "cell_type": "code",
      "metadata": {
        "id": "qUW2_YHyh75U",
        "colab_type": "code",
        "colab": {
          "base_uri": "https://localhost:8080/",
          "height": 144
        },
        "outputId": "1f7f474a-cc68-45b7-9a29-565cd41261cb"
      },
      "source": [
        "val = 255\n",
        "mask_arr = np.array(orig_mask)\n",
        "mask_arr[mask_arr != val] = 0\n",
        "mask_arr[mask_arr == val] = 255\n",
        "new_mask = Image.fromarray(mask_arr)\n",
        "new_mask\n",
        "\n",
        "fig, (ax1, ax2, ax3) = plt.subplots(1, 3)\n",
        "ax1.imshow(mask)\n",
        "ax2.imshow(new_mask)\n",
        "ax3.imshow(img)\n",
        "plt.show()"
      ],
      "execution_count": 338,
      "outputs": [
        {
          "output_type": "display_data",
          "data": {
            "image/png": "[encoded data removed]",
            "text/plain": [
              "<Figure size 432x288 with 3 Axes>"
            ]
          },
          "metadata": {
            "tags": [],
            "needs_background": "light"
          }
        }
      ]
    },
    {
      "cell_type": "code",
      "metadata": {
        "id": "N483sjcGgl6E",
        "colab_type": "code",
        "colab": {}
      },
      "source": [
        "segm_codes = {\n",
        "    0: \"NA\",\n",
        "    29: \"nose\",\n",
        "    76: \"mouth\",\n",
        "    105: \"eyebrow\",\n",
        "    128: \"skin\",\n",
        "    150: \"eye\",\n",
        "    179: \"ear\",\n",
        "    211: \"below-nose-moustaches\",\n",
        "    226: \"hair\",\n",
        "    255: \"teeth\",\n",
        "}"
      ],
      "execution_count": 0,
      "outputs": []
    },
    {
      "cell_type": "code",
      "metadata": {
        "id": "7dKRJc4eVUBd",
        "colab_type": "code",
        "colab": {}
      },
      "source": [
        "# plot training, label, & mask\n",
        "img_l = PILImage.create(get_y_fn(f))"
      ],
      "execution_count": 0,
      "outputs": []
    },
    {
      "cell_type": "code",
      "metadata": {
        "id": "goVV2SAhIEJv",
        "colab_type": "code",
        "colab": {
          "base_uri": "https://localhost:8080/",
          "height": 144
        },
        "outputId": "33c050b5-ebc4-4821-8913-2a941ed7b9d1"
      },
      "source": [
        "fig, (ax1, ax2, ax3) = plt.subplots(1, 3)\n",
        "ax1.imshow(img)\n",
        "ax2.imshow(img_lbl)\n",
        "ax3.imshow(mask)\n",
        "plt.show()"
      ],
      "execution_count": 243,
      "outputs": [
        {
          "output_type": "display_data",
          "data": {
            "image/png": "[encoded data removed]",
            "text/plain": [
              "<Figure size 432x288 with 3 Axes>"
            ]
          },
          "metadata": {
            "tags": [],
            "needs_background": "light"
          }
        }
      ]
    },
    {
      "cell_type": "code",
      "metadata": {
        "id": "HVISrMkuGRAO",
        "colab_type": "code",
        "colab": {
          "base_uri": "https://localhost:8080/",
          "height": 141
        },
        "outputId": "8fb57468-b904-4517-ee54-2fab7798f3a6"
      },
      "source": [
        "src_size = np.array(mask.shape[1:])\n",
        "src_size, tensor(mask)"
      ],
      "execution_count": 244,
      "outputs": [
        {
          "output_type": "execute_result",
          "data": {
            "text/plain": [
              "(array([300]), tensor([[0, 0, 0,  ..., 0, 0, 0],\n",
              "         [0, 0, 0,  ..., 0, 0, 0],\n",
              "         [0, 0, 0,  ..., 0, 0, 0],\n",
              "         ...,\n",
              "         [0, 0, 0,  ..., 0, 0, 0],\n",
              "         [0, 0, 0,  ..., 0, 0, 0],\n",
              "         [0, 0, 0,  ..., 0, 0, 0]], dtype=torch.uint8))"
            ]
          },
          "metadata": {
            "tags": []
          },
          "execution_count": 244
        }
      ]
    },
    {
      "cell_type": "code",
      "metadata": {
        "id": "lxPV_wKEXzOe",
        "colab_type": "code",
        "colab": {}
      },
      "source": [
        "codes = np.array([\"eyes\",\"nose\",\"ears\",\"mouth\",\"teeth\",\"hair\",\"eyebrows\",\"beard\", \"mousetach\", \"NA\"])"
      ],
      "execution_count": 0,
      "outputs": []
    },
    {
      "cell_type": "code",
      "metadata": {
        "id": "0A-zWr1Hc5zl",
        "colab_type": "code",
        "colab": {
          "base_uri": "https://localhost:8080/",
          "height": 70
        },
        "outputId": "57c013c4-5457-4cc1-c339-62b36fdec884"
      },
      "source": [
        "unique_vals = np.unique(mask)\n",
        "unique_vals, len(unique_vals), len(codes)"
      ],
      "execution_count": 249,
      "outputs": [
        {
          "output_type": "execute_result",
          "data": {
            "text/plain": [
              "(array([  0,  29,  76, 105, 128, 150, 179, 211, 226, 255], dtype=uint8),\n",
              " 10,\n",
              " 10)"
            ]
          },
          "metadata": {
            "tags": []
          },
          "execution_count": 249
        }
      ]
    },
    {
      "cell_type": "code",
      "metadata": {
        "id": "vNe_reT8dvwy",
        "colab_type": "code",
        "colab": {
          "base_uri": "https://localhost:8080/",
          "height": 34
        },
        "outputId": "47077b6f-59de-43f4-8215-0ef0e989d999"
      },
      "source": [
        "mask.shape"
      ],
      "execution_count": 222,
      "outputs": [
        {
          "output_type": "execute_result",
          "data": {
            "text/plain": [
              "(280, 300)"
            ]
          },
          "metadata": {
            "tags": []
          },
          "execution_count": 222
        }
      ]
    },
    {
      "cell_type": "code",
      "metadata": {
        "id": "7A7A44ThdwUJ",
        "colab_type": "code",
        "colab": {
          "base_uri": "https://localhost:8080/",
          "height": 34
        },
        "outputId": "1b91c8c9-dfcc-41fd-a5e3-4d4397626b7c"
      },
      "source": [
        "img.shape"
      ],
      "execution_count": 223,
      "outputs": [
        {
          "output_type": "execute_result",
          "data": {
            "text/plain": [
              "(280, 300)"
            ]
          },
          "metadata": {
            "tags": []
          },
          "execution_count": 223
        }
      ]
    },
    {
      "cell_type": "code",
      "metadata": {
        "id": "5IYil2ixd1Qk",
        "colab_type": "code",
        "colab": {}
      },
      "source": [
        ""
      ],
      "execution_count": 0,
      "outputs": []
    }
  ]
}