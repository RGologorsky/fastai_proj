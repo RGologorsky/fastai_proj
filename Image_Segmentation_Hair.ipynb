{
  "nbformat": 4,
  "nbformat_minor": 0,
  "metadata": {
    "colab": {
      "name": "Image Segmentation: Hair.ipynb",
      "provenance": [],
      "collapsed_sections": [],
      "toc_visible": true,
      "authorship_tag": "ABX9TyOzIWQPP0efzNTNxdapUlrR",
      "include_colab_link": true
    },
    "kernelspec": {
      "name": "python3",
      "display_name": "Python 3"
    },
    "accelerator": "GPU"
  },
  "cells": [
    {
      "cell_type": "markdown",
      "metadata": {
        "id": "view-in-github",
        "colab_type": "text"
      },
      "source": [
        "<a href=\"https://colab.research.google.com/github/RGologorsky/fastproj/blob/master/Image_Segmentation_Hair.ipynb\" target=\"_parent\"><img src=\"https://colab.research.google.com/assets/colab-badge.svg\" alt=\"Open In Colab\"/></a>"
      ]
    },
    {
      "cell_type": "markdown",
      "metadata": {
        "id": "DpjP71EE1O4Y",
        "colab_type": "text"
      },
      "source": [
        "# Goal: label pixels with hair"
      ]
    },
    {
      "cell_type": "markdown",
      "metadata": {
        "id": "wqs1nh4I1YYO",
        "colab_type": "text"
      },
      "source": [
        "## Imports"
      ]
    },
    {
      "cell_type": "code",
      "metadata": {
        "id": "bAsm3xSD0jYg",
        "colab_type": "code",
        "colab": {}
      },
      "source": [
        "%matplotlib inline"
      ],
      "execution_count": 0,
      "outputs": []
    },
    {
      "cell_type": "code",
      "metadata": {
        "id": "WQdMsudG02ty",
        "colab_type": "code",
        "colab": {}
      },
      "source": [
        "%%capture\n",
        "!pip install fastai2"
      ],
      "execution_count": 0,
      "outputs": []
    },
    {
      "cell_type": "code",
      "metadata": {
        "id": "IwPMcZ6S0taf",
        "colab_type": "code",
        "colab": {
          "base_uri": "https://localhost:8080/",
          "height": 125
        },
        "outputId": "553b001b-234d-4e67-fcc2-1147c1e6e2be"
      },
      "source": [
        "from fastai2.basics import *\n",
        "from fastai2.callback.all import *\n",
        "from fastai2.vision.all import *"
      ],
      "execution_count": 2,
      "outputs": [
        {
          "output_type": "stream",
          "text": [
            "Go to this URL in a browser: https://accounts.google.com/o/oauth2/auth?client_id=947318989803-6bn6qk8qdgf4n4g3pfee6491hc0brc4i.apps.googleusercontent.com&redirect_uri=urn%3aietf%3awg%3aoauth%3a2.0%3aoob&response_type=code&scope=email%20https%3a%2f%2fwww.googleapis.com%2fauth%2fdocs.test%20https%3a%2f%2fwww.googleapis.com%2fauth%2fdrive%20https%3a%2f%2fwww.googleapis.com%2fauth%2fdrive.photos.readonly%20https%3a%2f%2fwww.googleapis.com%2fauth%2fpeopleapi.readonly\n",
            "\n",
            "Enter your authorization code:\n",
            "··········\n",
            "Mounted at /content/drive\n"
          ],
          "name": "stdout"
        }
      ]
    },
    {
      "cell_type": "code",
      "metadata": {
        "id": "L9kSnTcl2Fa6",
        "colab_type": "code",
        "colab": {}
      },
      "source": [
        "from pathlib import Path"
      ],
      "execution_count": 0,
      "outputs": []
    },
    {
      "cell_type": "code",
      "metadata": {
        "id": "LVA2CiDL3wHF",
        "colab_type": "code",
        "colab": {}
      },
      "source": [
        "from google.colab import drive"
      ],
      "execution_count": 0,
      "outputs": []
    },
    {
      "cell_type": "code",
      "metadata": {
        "id": "tXFpjtVC6221",
        "colab_type": "code",
        "colab": {}
      },
      "source": [
        "# utils\n",
        "def pp_list(l): print(f\"len {len(l)}:\", *l, sep=\"\\n\")"
      ],
      "execution_count": 0,
      "outputs": []
    },
    {
      "cell_type": "code",
      "metadata": {
        "id": "YvUq5JIP-scJ",
        "colab_type": "code",
        "colab": {
          "base_uri": "https://localhost:8080/",
          "height": 70
        },
        "outputId": "7b26935e-fc9b-4747-8b7f-68f2ed5ea14c"
      },
      "source": [
        "pp_list(range(2))"
      ],
      "execution_count": 53,
      "outputs": [
        {
          "output_type": "stream",
          "text": [
            "len 2:\n",
            "0\n",
            "1\n"
          ],
          "name": "stdout"
        }
      ]
    },
    {
      "cell_type": "markdown",
      "metadata": {
        "id": "eZ2xJcZE00oO",
        "colab_type": "text"
      },
      "source": [
        "## Unzip Data"
      ]
    },
    {
      "cell_type": "code",
      "metadata": {
        "id": "WWeM-tEH2Em8",
        "colab_type": "code",
        "colab": {}
      },
      "source": [
        "drive.mount('/content/drive')"
      ],
      "execution_count": 0,
      "outputs": []
    },
    {
      "cell_type": "code",
      "metadata": {
        "id": "Fdpj2r3f2XPw",
        "colab_type": "code",
        "colab": {}
      },
      "source": [
        "base_path = Path(\"drive/My Drive/fastai_proj\")"
      ],
      "execution_count": 0,
      "outputs": []
    },
    {
      "cell_type": "code",
      "metadata": {
        "id": "bpBSfXgT3p_l",
        "colab_type": "code",
        "colab": {}
      },
      "source": [
        "proj = \"segmentation\"\n",
        "proj_path = base_path/proj\n",
        "pp_list(proj_path.ls())"
      ],
      "execution_count": 0,
      "outputs": []
    },
    {
      "cell_type": "code",
      "metadata": {
        "id": "LowTIZQg2Ac-",
        "colab_type": "code",
        "colab": {}
      },
      "source": [
        "data_src = proj_path/\"face_segment_data_sampleset.zip\"\n",
        "data_dest = proj_path/\"data\""
      ],
      "execution_count": 0,
      "outputs": []
    },
    {
      "cell_type": "code",
      "metadata": {
        "id": "TQDPiPU32n2B",
        "colab_type": "code",
        "colab": {}
      },
      "source": [
        "# !unzip -qq \"$data_src\" -d \"$data_dest\""
      ],
      "execution_count": 0,
      "outputs": []
    },
    {
      "cell_type": "markdown",
      "metadata": {
        "id": "zAfgvcbe9qL3",
        "colab_type": "text"
      },
      "source": [
        "## View data w/labels"
      ]
    },
    {
      "cell_type": "code",
      "metadata": {
        "id": "tBkuw-RiE1kA",
        "colab_type": "code",
        "colab": {}
      },
      "source": [
        "path_lbl = data_dest/\"labels\"\n",
        "path_img = data_dest"
      ],
      "execution_count": 0,
      "outputs": []
    },
    {
      "cell_type": "code",
      "metadata": {
        "id": "8wCHj4ZjNsHJ",
        "colab_type": "code",
        "colab": {
          "base_uri": "https://localhost:8080/",
          "height": 87
        },
        "outputId": "9c854c8c-392c-4adc-acf4-267a0c38a3c1"
      },
      "source": [
        "lbl_names = get_image_files(path_lbl)\n",
        "pp_list(lbl_names[:3])"
      ],
      "execution_count": 144,
      "outputs": [
        {
          "output_type": "stream",
          "text": [
            "len 3:\n",
            "drive/My Drive/fastai_proj/segmentation/data/labels/femalefelice/headrende0000.png\n",
            "drive/My Drive/fastai_proj/segmentation/data/labels/femalefelice/headrende0020.png\n",
            "drive/My Drive/fastai_proj/segmentation/data/labels/femalefelice/headrende0040.png\n"
          ],
          "name": "stdout"
        }
      ]
    },
    {
      "cell_type": "code",
      "metadata": {
        "id": "SMZA-zRnNwy9",
        "colab_type": "code",
        "colab": {}
      },
      "source": [
        "# look for images in all folders except for \"labels\"\n",
        "def rm_path_prefix(f, prefix=path_img): return str(f).replace(f\"{prefix}/\", \"\")\n",
        "img_folders = [rm_path_prefix(p) for p in path_img.ls() if p != path_lbl]\n",
        "\n",
        "# def rm_parent_path(f): return re.search(\"(?!.*\\/).*\", str(f)).group(0)"
      ],
      "execution_count": 0,
      "outputs": []
    },
    {
      "cell_type": "code",
      "metadata": {
        "id": "2KsEnS_UN4LC",
        "colab_type": "code",
        "colab": {
          "base_uri": "https://localhost:8080/",
          "height": 87
        },
        "outputId": "5e7cc29d-ebc3-4983-b0cf-926772d7a3fd"
      },
      "source": [
        "fnames = get_image_files(data_dest, recurse=True, folders=img_folders)\n",
        "pp_list(fnames[:3])"
      ],
      "execution_count": 159,
      "outputs": [
        {
          "output_type": "stream",
          "text": [
            "len 3:\n",
            "drive/My Drive/fastai_proj/segmentation/data/femalefelice_env04/headrende0000.png\n",
            "drive/My Drive/fastai_proj/segmentation/data/femalefelice_env04/headrende0020.png\n",
            "drive/My Drive/fastai_proj/segmentation/data/femalefelice_env04/headrende0040.png\n"
          ],
          "name": "stdout"
        }
      ]
    },
    {
      "cell_type": "markdown",
      "metadata": {
        "id": "j_n1tmWJ5Mrh",
        "colab_type": "text"
      },
      "source": [
        "# Associate fname to label"
      ]
    },
    {
      "cell_type": "code",
      "metadata": {
        "id": "U1055YFE9YR7",
        "colab_type": "code",
        "colab": {}
      },
      "source": [
        "path_lbl = data_dest/\"labels\""
      ],
      "execution_count": 0,
      "outputs": []
    },
    {
      "cell_type": "code",
      "metadata": {
        "id": "FJP2u-Zh8-I6",
        "colab_type": "code",
        "colab": {
          "base_uri": "https://localhost:8080/",
          "height": 87
        },
        "outputId": "6a653094-892f-4101-978d-d0400b539c42"
      },
      "source": [
        "fnames = get_image_files(data_dest, recurse=True)\n",
        "pp_list(fnames[:3])"
      ],
      "execution_count": 54,
      "outputs": [
        {
          "output_type": "stream",
          "text": [
            "len 3:\n",
            "drive/My Drive/fastai_proj/segmentation/data/femalefelice_env04/headrende0000.png\n",
            "drive/My Drive/fastai_proj/segmentation/data/femalefelice_env04/headrende0020.png\n",
            "drive/My Drive/fastai_proj/segmentation/data/femalefelice_env04/headrende0040.png\n"
          ],
          "name": "stdout"
        }
      ]
    },
    {
      "cell_type": "code",
      "metadata": {
        "id": "00_7jcFh9Irz",
        "colab_type": "code",
        "colab": {}
      },
      "source": [
        "lbl_names = get_image_files()"
      ],
      "execution_count": 0,
      "outputs": []
    },
    {
      "cell_type": "markdown",
      "metadata": {
        "id": "ket4wNg0GGIi",
        "colab_type": "text"
      },
      "source": [
        "## View image/label mask"
      ]
    },
    {
      "cell_type": "code",
      "metadata": {
        "id": "G6OQ5_QMJpap",
        "colab_type": "code",
        "colab": {
          "base_uri": "https://localhost:8080/",
          "height": 34
        },
        "outputId": "d56b6a0f-b956-48b9-dcd3-6d090b6c3ad1"
      },
      "source": [
        "data_dest"
      ],
      "execution_count": 117,
      "outputs": [
        {
          "output_type": "execute_result",
          "data": {
            "text/plain": [
              "Path('drive/My Drive/fastai_proj/segmentation/data')"
            ]
          },
          "metadata": {
            "tags": []
          },
          "execution_count": 117
        }
      ]
    },
    {
      "cell_type": "code",
      "metadata": {
        "id": "WI7pp3MJI5PB",
        "colab_type": "code",
        "colab": {}
      },
      "source": [
        "get_y_fn = lambda x: path_lbl/rm_path_prefix(x)"
      ],
      "execution_count": 0,
      "outputs": []
    },
    {
      "cell_type": "code",
      "metadata": {
        "id": "FWWSRjKUK4gK",
        "colab_type": "code",
        "colab": {
          "base_uri": "https://localhost:8080/",
          "height": 34
        },
        "outputId": "f62a836f-4473-4d67-b926-54818e54939d"
      },
      "source": [
        "get_y_fn(fnames[0]) == lbl_names[0]"
      ],
      "execution_count": 161,
      "outputs": [
        {
          "output_type": "execute_result",
          "data": {
            "text/plain": [
              "False"
            ]
          },
          "metadata": {
            "tags": []
          },
          "execution_count": 161
        }
      ]
    },
    {
      "cell_type": "code",
      "metadata": {
        "id": "B8Ff0o2HLJ2y",
        "colab_type": "code",
        "colab": {
          "base_uri": "https://localhost:8080/",
          "height": 70
        },
        "outputId": "6eb9a37a-ec1a-49bc-8eab-b26d49f43745"
      },
      "source": [
        "pp_list([get_y_fn(fnames[0]), lbl_names[0]])"
      ],
      "execution_count": 162,
      "outputs": [
        {
          "output_type": "stream",
          "text": [
            "len 2:\n",
            "drive/My Drive/fastai_proj/segmentation/data/labels/femalefelice_env04/headrende0000.png\n",
            "drive/My Drive/fastai_proj/segmentation/data/labels/femalefelice/headrende0000.png\n"
          ],
          "name": "stdout"
        }
      ]
    },
    {
      "cell_type": "code",
      "metadata": {
        "id": "FKz1Y8xVPzJI",
        "colab_type": "code",
        "colab": {
          "base_uri": "https://localhost:8080/",
          "height": 34
        },
        "outputId": "2fcacf9a-3470-4dc2-d665-1295dcc88b4b"
      },
      "source": [
        "fnames[0].stem"
      ],
      "execution_count": 163,
      "outputs": [
        {
          "output_type": "execute_result",
          "data": {
            "text/plain": [
              "'headrende0000'"
            ]
          },
          "metadata": {
            "tags": []
          },
          "execution_count": 163
        }
      ]
    },
    {
      "cell_type": "code",
      "metadata": {
        "id": "xq564ZvfP13z",
        "colab_type": "code",
        "colab": {
          "base_uri": "https://localhost:8080/",
          "height": 34
        },
        "outputId": "91dfae2d-d27b-432b-b945-f5afefcfdc8d"
      },
      "source": [
        "fnames[0].parent"
      ],
      "execution_count": 164,
      "outputs": [
        {
          "output_type": "execute_result",
          "data": {
            "text/plain": [
              "Path('drive/My Drive/fastai_proj/segmentation/data/femalefelice_env04')"
            ]
          },
          "metadata": {
            "tags": []
          },
          "execution_count": 164
        }
      ]
    },
    {
      "cell_type": "code",
      "metadata": {
        "id": "oN4LA3l6Q39O",
        "colab_type": "code",
        "colab": {
          "base_uri": "https://localhost:8080/",
          "height": 34
        },
        "outputId": "d3bb4972-1baa-4bad-cf81-40d4ac695942"
      },
      "source": [
        "re.search(\".*(?=_)\", str(fnames[0].parent)).group(0)"
      ],
      "execution_count": 165,
      "outputs": [
        {
          "output_type": "execute_result",
          "data": {
            "text/plain": [
              "'drive/My Drive/fastai_proj/segmentation/data/femalefelice'"
            ]
          },
          "metadata": {
            "tags": []
          },
          "execution_count": 165
        }
      ]
    },
    {
      "cell_type": "code",
      "metadata": {
        "id": "ILeXxuL4KJfG",
        "colab_type": "code",
        "colab": {
          "base_uri": "https://localhost:8080/",
          "height": 34
        },
        "outputId": "008f06f5-9c4b-44ba-ad87-d994e1dc3914"
      },
      "source": [
        "str(fnames[0]).replace(str(path_img), str(path_lbl))"
      ],
      "execution_count": 135,
      "outputs": [
        {
          "output_type": "execute_result",
          "data": {
            "text/plain": [
              "'drive/My Drive/fastai_proj/segmentation/data/labels/femalefelice_env04/headrende0000.png'"
            ]
          },
          "metadata": {
            "tags": []
          },
          "execution_count": 135
        }
      ]
    },
    {
      "cell_type": "code",
      "metadata": {
        "id": "_UBDPkPkLP2w",
        "colab_type": "code",
        "colab": {
          "base_uri": "https://localhost:8080/",
          "height": 34
        },
        "outputId": "71106026-c38e-458e-e358-164c6b8498b4"
      },
      "source": [
        "path_img"
      ],
      "execution_count": 133,
      "outputs": [
        {
          "output_type": "execute_result",
          "data": {
            "text/plain": [
              "Path('drive/My Drive/fastai_proj/segmentation/data')"
            ]
          },
          "metadata": {
            "tags": []
          },
          "execution_count": 133
        }
      ]
    },
    {
      "cell_type": "code",
      "metadata": {
        "id": "w5Pr0rekKOAC",
        "colab_type": "code",
        "colab": {
          "base_uri": "https://localhost:8080/",
          "height": 34
        },
        "outputId": "ca626104-3973-4689-a432-d412af4f824d"
      },
      "source": [
        "lbl_names[0]"
      ],
      "execution_count": 126,
      "outputs": [
        {
          "output_type": "execute_result",
          "data": {
            "text/plain": [
              "Path('drive/My Drive/fastai_proj/segmentation/data/labels/femalefelice/headrende0000.png')"
            ]
          },
          "metadata": {
            "tags": []
          },
          "execution_count": 126
        }
      ]
    },
    {
      "cell_type": "code",
      "metadata": {
        "id": "cpxKYTfrJubM",
        "colab_type": "code",
        "colab": {
          "base_uri": "https://localhost:8080/",
          "height": 34
        },
        "outputId": "ffbc05b5-58b1-4a8d-9820-0872d82a6b4f"
      },
      "source": [
        "get_y_fn(fnames[0])"
      ],
      "execution_count": 123,
      "outputs": [
        {
          "output_type": "execute_result",
          "data": {
            "text/plain": [
              "'drive/My Drive/fastai_proj/segmentation/data/femalefelice_env04'"
            ]
          },
          "metadata": {
            "tags": []
          },
          "execution_count": 123
        }
      ]
    },
    {
      "cell_type": "code",
      "metadata": {
        "id": "2jXnFFZbF_eM",
        "colab_type": "code",
        "colab": {}
      },
      "source": [
        "idx = 0\n",
        "img_f = PILImage.create(fnames[idx])\n",
        "img_l = PILImage.create(lbl_names[idx])"
      ],
      "execution_count": 0,
      "outputs": []
    },
    {
      "cell_type": "code",
      "metadata": {
        "id": "goVV2SAhIEJv",
        "colab_type": "code",
        "colab": {
          "base_uri": "https://localhost:8080/",
          "height": 194
        },
        "outputId": "d6c606bf-c9f3-4b96-ddc5-06e4c6b8f5b9"
      },
      "source": [
        "fig, (ax1, ax2, ax3) = plt.subplots(1, 2)\n",
        "ax1.imshow(img_f)\n",
        "ax2.imshow(img_l)\n",
        "plt.show()"
      ],
      "execution_count": 113,
      "outputs": [
        {
          "output_type": "display_data",
          "data": {
            "image/png": "[encoded data removed]",
            "text/plain": [
              "<Figure size 432x288 with 2 Axes>"
            ]
          },
          "metadata": {
            "tags": [],
            "needs_background": "light"
          }
        }
      ]
    },
    {
      "cell_type": "code",
      "metadata": {
        "id": "HVISrMkuGRAO",
        "colab_type": "code",
        "colab": {}
      },
      "source": [
        ""
      ],
      "execution_count": 0,
      "outputs": []
    }
  ]
}